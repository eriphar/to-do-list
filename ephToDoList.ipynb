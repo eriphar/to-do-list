{
  "cells": [
    {
      "cell_type": "markdown",
      "metadata": {
        "id": "view-in-github",
        "colab_type": "text"
      },
      "source": [
        "<a href=\"https://colab.research.google.com/github/eriphar/to-do-list/blob/main/ephToDoList.ipynb\" target=\"_parent\"><img src=\"https://colab.research.google.com/assets/colab-badge.svg\" alt=\"Open In Colab\"/></a>"
      ]
    },
    {
      "cell_type": "markdown",
      "metadata": {
        "id": "2eywAuR9w1RX"
      },
      "source": [
        "#To-Do List Overview\n",
        "\n",
        "![rectangle-2470300_150.png](data:image/png;base64,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)\n",
        "\n",
        "Date Written:\n",
        "2024-12-16\n",
        "\n",
        "\n",
        "Version:\n",
        "1\n",
        "\n",
        "\n",
        "Author:\n",
        "Erica P Harris\n",
        "\n",
        "\n",
        "Description:\n",
        "\n",
        "This program provides a simple command-line interface for managing a to-do list.\n",
        "\n",
        "Features:\n",
        "\n",
        "* Add tasks to the to-do list.\n",
        "* View current tasks.\n",
        "* Remove tasks from the list.\n",
        "* Prevents adding duplicate tasks.\n",
        "* Informs you if the to-do list is empty.\n",
        "* Case-insensitive task handling.\n",
        "\n",
        "How to Use:\n",
        "1. Run the Python script.\n",
        "2. Select options from the menu:\n",
        "    * A: Add a new task.\n",
        "    * V: View your to-do list.\n",
        "    * R: Remove a task.\n",
        "    * E: Exit the program.\n",
        "3. Follow the prompts to add, view, or remove tasks.\n",
        "\n",
        "Example:\n",
        "* To add a task, select 'A' and enter the task description when prompted.\n",
        "* To view your list, select 'V'.\n",
        "* To remove a task, select 'R' and enter the task ID to be removed.\n",
        "\n",
        "Notes:\n",
        "* Task names are case-insensitive.\n",
        "* The list is stored in memory and will be lost when the program exits.\n",
        "\n",
        "Future Enhancements:\n",
        "* Potentially store tasks to a file for future reference.\n",
        "* Potentially include sub tasks\n",
        "* Potentially include other attributes for tasks, for example, completion status."
      ]
    },
    {
      "cell_type": "markdown",
      "metadata": {
        "id": "uadHVHxqx_JS"
      },
      "source": [
        "# Imports"
      ]
    },
    {
      "cell_type": "markdown",
      "metadata": {
        "id": "soyLwv60yDE6"
      },
      "source": [
        "# Declarations"
      ]
    },
    {
      "cell_type": "code",
      "execution_count": null,
      "metadata": {
        "id": "mjfRjZlwyl7Q"
      },
      "outputs": [],
      "source": [
        "todoList = []\n",
        "optionSelected = \"\""
      ]
    },
    {
      "cell_type": "markdown",
      "metadata": {
        "id": "lfDbhfUhyUAN"
      },
      "source": [
        "# Functions"
      ]
    },
    {
      "cell_type": "code",
      "execution_count": null,
      "metadata": {
        "id": "lP-Uvd52ynFu"
      },
      "outputs": [],
      "source": [
        "#Show menu\n",
        "def displayMenu():\n",
        "  print(\"\\n\\n-----------------\") #insert two line breaks before displaying menu\n",
        "  print(\"To-Do List Menu:\")\n",
        "  print(\"-----------------\")\n",
        "  print(\"A. Add Task\")\n",
        "  print(\"V. View Tasks\")\n",
        "  print(\"R. Remove Task\")\n",
        "  print(\"E. Exit\")\n",
        "  print(\"\\n\")\n",
        "\n",
        "#Performs a case insensitive Check if the task already in the list\n",
        "def TaskInList(parTask):\n",
        "  for listTask in todoList:\n",
        "    if listTask.lower() == parTask.lower():\n",
        "      return True\n",
        "  return False\n",
        "\n",
        "#Performs a case insensitive Check if the task is in the list\n",
        "#def NotInList(parTask):\n",
        "#  for listTask in todoList:\n",
        "#    if listTask != parTask:\n",
        "#      return True\n",
        "#  return False\n",
        "\n",
        "#Adds a task to the list if it is not already added\n",
        "def addTask():\n",
        "  theTask = input(\"\\nEnter a task to add to your To-Do list: \")\n",
        "  #print(\"Duplicate task \", TaskInList(theTask))\n",
        "  if TaskInList(theTask) == True:\n",
        "    print(f\"\\nTask '{theTask}' is already on the list.\")\n",
        "  else:\n",
        "    todoList.append(theTask)\n",
        "    print(f\"\\n'{theTask}' has been added to the list.\")\n",
        "\n",
        "#Prints the To-Do list\n",
        "def viewList():\n",
        "  #print(\"list length: \", len(todoList))\n",
        "\n",
        "  #check if the list is empty\n",
        "  if len(todoList) <= 0:\n",
        "    print(\"\\nYour To-Do List is empty.\")\n",
        "    return\n",
        "  else:\n",
        "    #insert two line breaks before printing the current list\n",
        "    print(\"\\n\\nYour current To-Do List:\")\n",
        "    print(\"-----------------\")\n",
        "    #Prints the numbered task list\n",
        "    for listId, eachTask in enumerate(todoList, start=1):\n",
        "      print(f\"{listId}. {eachTask}\")\n",
        "    return\n",
        "\n",
        "#Removes a task from the list\n",
        "def removeTask():\n",
        "  #The code block is no longer needed as it requires the user to enter the task name. It is more efficient to list the numbered tasks and prompt for the task number\n",
        "  #if TaskInList(theTask) == True:\n",
        "  #  todoList.remove(theTask)\n",
        "  #  print(theTask, \" has been removed from the list.\")\n",
        "  #else:\n",
        "  #  print(\"Task does not exist.\")\n",
        "\n",
        "  #check if the list is empty\n",
        "  if len(todoList) <= 0:\n",
        "    #Notify user the list is empty\n",
        "    print(\"\\nYour To-Do List is empty.\")\n",
        "    return\n",
        "  else:\n",
        "    #Prompt for the task number to be removed and validate\n",
        "    try:\n",
        "      IndexToRemove = int(input(\"\\nWhich numbered task would you like to remove? \"))\n",
        "    except ValueError:\n",
        "      print(\"\\nInvalid input. Please enter a valid task number.\")\n",
        "      return\n",
        "\n",
        "    #Check for valid task ID\n",
        "    if IndexToRemove > 0 and IndexToRemove <= len(todoList):\n",
        "      #remove task using del statement which only uses index\n",
        "      #del todoList[IndexToRemove - 1] #Python array indices start at 0?\n",
        "\n",
        "      #remove task using pop function which allows access to index and element\n",
        "      TaskToRemove = todoList.pop(IndexToRemove - 1) #Python array indices start at 0?\n",
        "      print(f\"\\nTask '#{IndexToRemove}. {TaskToRemove}' has been removed from the list.\")\n",
        "    else:\n",
        "      print(f\"\\nTask ID '{IndexToRemove}' is invalid.\")\n"
      ]
    },
    {
      "cell_type": "markdown",
      "metadata": {
        "id": "Cgr0FZHiycpZ"
      },
      "source": [
        "# Main Code Body"
      ]
    },
    {
      "cell_type": "code",
      "execution_count": null,
      "metadata": {
        "id": "MUxASqiRyn_6"
      },
      "outputs": [],
      "source": [
        "#Loop until the user selects the option to exit\n",
        "while True:\n",
        "  # dispolay the To-Do menu options\n",
        "  displayMenu()\n",
        "  #Prompt user to make a selection\n",
        "  optionSelected = input(\"Select an option: \").upper()\n",
        "\n",
        "  #Validate the user selection\n",
        "  if optionSelected == \"A\":\n",
        "    #perform steps to add a task to the to-do list\n",
        "    addTask()\n",
        "  elif optionSelected == \"V\":\n",
        "    #perform steps to display to-do list\n",
        "    viewList()\n",
        "  elif optionSelected == \"R\":\n",
        "    #display the current list\n",
        "    viewList()\n",
        "\n",
        "    #perform steps to remove the selected item from the to-do list\n",
        "    removeTask()\n",
        "\n",
        "    #display the new list\n",
        "    viewList()\n",
        "  elif optionSelected == \"E\":\n",
        "    #end program\n",
        "    print(\"\\nClosing To-Do List. See you next time!\")\n",
        "    break\n",
        "  else:\n",
        "    #the response is not a valid menu option\n",
        "    print(\"\\nInvalid selection. Please try again.\")\n",
        "    break"
      ]
    }
  ],
  "metadata": {
    "colab": {
      "toc_visible": true,
      "provenance": [],
      "authorship_tag": "ABX9TyM1VQAQtirHri8r+sipubai",
      "include_colab_link": true
    },
    "kernelspec": {
      "display_name": "Python 3",
      "name": "python3"
    },
    "language_info": {
      "name": "python"
    }
  },
  "nbformat": 4,
  "nbformat_minor": 0
}